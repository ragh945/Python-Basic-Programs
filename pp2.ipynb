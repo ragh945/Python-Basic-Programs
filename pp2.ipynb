{
 "cells": [
  {
   "cell_type": "markdown",
   "id": "1b8c7455",
   "metadata": {},
   "source": [
    "# Write a program to find the factors of a number in Python."
   ]
  },
  {
   "cell_type": "code",
   "execution_count": null,
   "id": "a098ad1f",
   "metadata": {},
   "outputs": [
    {
     "name": "stdout",
     "output_type": "stream",
     "text": [
      "Factors of 1 : [1]\n"
     ]
    }
   ],
   "source": [
    "#Factors of a number\n",
    "n=35\n",
    "i=1\n",
    "l1=[]\n",
    "while i<=n:\n",
    "    if n%i==0:\n",
    "        l1.append(i)\n",
    "    i+=1\n",
    "print(\"Factors of {} : {}\".format(n,l1))"
   ]
  },
  {
   "cell_type": "markdown",
   "id": "25342003",
   "metadata": {},
   "source": [
    "# Write a program to find number of factors of a number in Python."
   ]
  },
  {
   "cell_type": "code",
   "execution_count": null,
   "id": "39fabddc",
   "metadata": {},
   "outputs": [
    {
     "name": "stdout",
     "output_type": "stream",
     "text": [
      "Enter the number : 100\n",
      "No.of Factors of 100 : 9\n"
     ]
    }
   ],
   "source": [
    "#count the number of Factors of a number\n",
    "n=67\n",
    "i=1\n",
    "c=0\n",
    "l1=[]\n",
    "while i<=n:\n",
    "    if n%i==0:\n",
    "        l1.append(i)\n",
    "        c+=1\n",
    "    i+=1\n",
    "print(\"No.of Factors of {} : {}\".format(n,c))"
   ]
  },
  {
   "cell_type": "markdown",
   "id": "47297f79",
   "metadata": {},
   "source": [
    "# Write a program to reverse an integer in Python."
   ]
  },
  {
   "cell_type": "code",
   "execution_count": null,
   "id": "20ad60f4",
   "metadata": {},
   "outputs": [
    {
     "name": "stdout",
     "output_type": "stream",
     "text": [
      "Enter the integer : 1234\n",
      "4321\n"
     ]
    }
   ],
   "source": [
    "num=4132\n",
    "rev=0\n",
    "while num>0:\n",
    "    dig=num%10\n",
    "    rev=rev*10+dig\n",
    "    num//=10\n",
    "print(rev)"
   ]
  },
  {
   "cell_type": "markdown",
   "id": "d5c7009a",
   "metadata": {},
   "source": [
    "# Write a program in Python to check whether an integer is Armstrong number or not."
   ]
  },
  {
   "cell_type": "code",
   "execution_count": null,
   "id": "e8d43e5b",
   "metadata": {},
   "outputs": [
    {
     "name": "stdout",
     "output_type": "stream",
     "text": [
      "Enter the integer : 1634\n",
      "1634 is an armstrong number\n"
     ]
    }
   ],
   "source": [
    "num=371\n",
    "temp=num\n",
    "sum=0\n",
    "while temp>0:\n",
    "    dig=temp%10\n",
    "    sum+=dig**len(str(num))\n",
    "    temp//=10\n",
    "if num==sum:\n",
    "    print(\"{} is an armstrong number\".format(num))\n",
    "else:\n",
    "     print(\"{} is not an armstrong number\".format(num))"
   ]
  },
  {
   "cell_type": "markdown",
   "id": "5e9e0e97",
   "metadata": {},
   "source": [
    "# Write a program in Python to check given number is prime or not."
   ]
  },
  {
   "cell_type": "code",
   "execution_count": null,
   "id": "396de2d4",
   "metadata": {},
   "outputs": [
    {
     "name": "stdout",
     "output_type": "stream",
     "text": [
      "Enter the number : 19\n",
      "Prime number\n"
     ]
    }
   ],
   "source": [
    "num=77\n",
    "i=2\n",
    "temp=0\n",
    "for i in range(2,num):\n",
    "    if num%i==0:\n",
    "        temp=1\n",
    "        break\n",
    "if temp==1:\n",
    "    print(\"Not a prime number\")\n",
    "else:\n",
    "    print(\"Prime number\")\n"
   ]
  },
  {
   "cell_type": "markdown",
   "id": "95297223",
   "metadata": {},
   "source": [
    "# Write a program in Python to print the Fibonacci series using iterative method."
   ]
  },
  {
   "cell_type": "code",
   "execution_count": null,
   "id": "658ba745",
   "metadata": {},
   "outputs": [
    {
     "name": "stdout",
     "output_type": "stream",
     "text": [
      "Enter the terms : 10\n",
      "0 1 1 2 3 5 8 13 21 34 "
     ]
    }
   ],
   "source": [
    "num=10\n",
    "if num<0:\n",
    "    print(\"Factorial is not defined for negative numbers\")\n",
    "num1=0\n",
    "num2=1\n",
    "for i in range(num):\n",
    "    print(num1,end=\" \")\n",
    "    num=num1+num2\n",
    "    num1=num2\n",
    "    num2=num"
   ]
  },
  {
   "cell_type": "code",
   "execution_count": null,
   "id": "ecf74926",
   "metadata": {},
   "outputs": [
    {
     "name": "stdout",
     "output_type": "stream",
     "text": [
      "Enter the terms : 10\n",
      "0 1 1 2 3 5 8 13 21 34 "
     ]
    }
   ],
   "source": [
    "num3=10\n",
    "if num3<0:\n",
    "    print(\"Fibonacci series is not defined for negative numbers\")\n",
    "num1=0\n",
    "num2=1\n",
    "i=1\n",
    "while i<=num3:\n",
    "    print(num1,end=\" \")\n",
    "    num=num1+num2\n",
    "    num1=num2\n",
    "    num2=num\n",
    "    i+=1"
   ]
  },
  {
   "cell_type": "markdown",
   "id": "167e32d9",
   "metadata": {},
   "source": [
    "# Write a program in Python to print the Fibonacci series using recursive method."
   ]
  },
  {
   "cell_type": "code",
   "execution_count": null,
   "id": "76bc16ad",
   "metadata": {},
   "outputs": [
    {
     "name": "stdout",
     "output_type": "stream",
     "text": [
      "Enter the terms : 10\n",
      "0 1 1 2 3 5 8 13 21 34 "
     ]
    }
   ],
   "source": [
    "num=20\n",
    "def fib(num):\n",
    "    if num==0:\n",
    "        return 0\n",
    "    elif num==1:\n",
    "        return 1\n",
    "    else:\n",
    "        return fib(num-1)+fib(num-2)\n",
    "for i in range(num):\n",
    "    print(fib(i),end=\" \")"
   ]
  },
  {
   "cell_type": "markdown",
   "id": "4ce9a5c9",
   "metadata": {},
   "source": [
    "# Write a program in Python to check whether a number is palindrome or not using iterative method."
   ]
  },
  {
   "cell_type": "code",
   "execution_count": null,
   "id": "49e23988",
   "metadata": {},
   "outputs": [
    {
     "name": "stdout",
     "output_type": "stream",
     "text": [
      "Enter the integer : 1001\n",
      "The number is a palindrome\n"
     ]
    }
   ],
   "source": [
    "num=121\n",
    "rev=0\n",
    "temp=num\n",
    "while num>0:\n",
    "    dig=num%10\n",
    "    rev=rev*10+dig\n",
    "    num//=10\n",
    "if temp==rev:\n",
    "    print(\"The number is a palindrome\")\n",
    "else:\n",
    "    print(\"Not a palindrome\")\n",
    "    "
   ]
  },
  {
   "cell_type": "markdown",
   "id": "0d0ba84a",
   "metadata": {},
   "source": [
    "# Write a program in Python to check whether a number is palindrome or not using recursive method."
   ]
  },
  {
   "cell_type": "code",
   "execution_count": null,
   "id": "2ae9a207",
   "metadata": {},
   "outputs": [
    {
     "name": "stdout",
     "output_type": "stream",
     "text": [
      "Not a palindrome\n"
     ]
    }
   ],
   "source": [
    "def rev(num):\n",
    "    rev=0\n",
    "    temp=num\n",
    "    while num>0:\n",
    "        dig=num%10\n",
    "        rev*=10+dig\n",
    "        num//=10\n",
    "    if temp==rev:\n",
    "        return rev\n",
    "    else:\n",
    "        return 0\n",
    "    \n",
    "def ispalindrome(num):\n",
    "    if num==rev(num):\n",
    "        return 1\n",
    "    return 0\n",
    "num\n",
    "if ispalindrome(num)==1:\n",
    "    print(\"palindrome\")\n",
    "else:\n",
    "    print(\"Not a palindrome\")\n",
    "    "
   ]
  },
  {
   "cell_type": "markdown",
   "id": "d5907b89",
   "metadata": {},
   "source": [
    "# Write a program in Python to find greatest among three integers."
   ]
  },
  {
   "cell_type": "code",
   "execution_count": 21,
   "id": "28f4affe",
   "metadata": {},
   "outputs": [
    {
     "name": "stdout",
     "output_type": "stream",
     "text": [
      "13 is greatest\n"
     ]
    }
   ],
   "source": [
    "def greatest(num1,num2,num3):\n",
    "    if num1>num2 and num1>num3:\n",
    "        print(\"{} is greatest\".format(num1))\n",
    "    elif num2>num1 and num2>num3:\n",
    "        print(\"{} is greatest\".format(num2))\n",
    "    else:\n",
    "         print(\"{} is greatest\".format(num3))\n",
    "greatest(10,11,13) "
   ]
  },
  {
   "cell_type": "markdown",
   "id": "4b242fb7",
   "metadata": {},
   "source": [
    "# Write a program in Python to check if a number is binary?"
   ]
  },
  {
   "cell_type": "code",
   "execution_count": null,
   "id": "d996fd8c",
   "metadata": {},
   "outputs": [
    {
     "name": "stdout",
     "output_type": "stream",
     "text": [
      "Enter the number : 0010\n",
      "binary\n"
     ]
    }
   ],
   "source": [
    "num=1010\n",
    "while num>0:\n",
    "    j=num%10\n",
    "    if j!=0 and j!=1:\n",
    "        print(\"Not a binary\")\n",
    "        break\n",
    "    num//=10\n",
    "    if num==0:\n",
    "        print(\"binary\")"
   ]
  },
  {
   "cell_type": "markdown",
   "id": "9a55a9ad",
   "metadata": {},
   "source": [
    "# Write a Program to find the factorial of a given number."
   ]
  },
  {
   "cell_type": "code",
   "execution_count": null,
   "id": "b51088aa",
   "metadata": {},
   "outputs": [
    {
     "name": "stdout",
     "output_type": "stream",
     "text": [
      "Enter the number : 6\n",
      "Factorial of a given number 6 is : 720\n"
     ]
    }
   ],
   "source": [
    "num=100\n",
    "fact=1\n",
    "for i in range(num):\n",
    "    fact+=fact*i\n",
    "print(\"Factorial of a given number {} is : {}\".format(num,fact))"
   ]
  },
  {
   "cell_type": "markdown",
   "id": "4fbb0b55",
   "metadata": {},
   "source": [
    "# Write a Program to find the factorial of a given number using recurssion"
   ]
  },
  {
   "cell_type": "code",
   "execution_count": null,
   "id": "0b65681d",
   "metadata": {},
   "outputs": [
    {
     "name": "stdout",
     "output_type": "stream",
     "text": [
      "Enter the number : 6\n",
      "Factorial of a given number 6 is : 720\n"
     ]
    }
   ],
   "source": [
    "def fact(num):\n",
    "    if num==0:\n",
    "        return 1\n",
    "    else:\n",
    "        return num*fact(num-1)\n",
    "num=20\n",
    "print(\"Factorial of a given number {} is : {}\".format(num,fact(num)))"
   ]
  },
  {
   "cell_type": "markdown",
   "id": "2fa1c2ae",
   "metadata": {},
   "source": [
    "# Write a Program to find the mean of a given list of observations."
   ]
  },
  {
   "cell_type": "code",
   "execution_count": 12,
   "id": "e12f52e8",
   "metadata": {},
   "outputs": [
    {
     "name": "stdout",
     "output_type": "stream",
     "text": [
      "The mean of given List of observations : 2.5\n"
     ]
    }
   ],
   "source": [
    "def mean(nums):\n",
    "    sum=0\n",
    "    Total=len(nums)\n",
    "    for i in nums:\n",
    "        sum+=i\n",
    "        mean=sum/Total\n",
    "    return mean\n",
    "res=mean([1,2,3,4])\n",
    "print(\"The mean of given List of observations : {}\".format(res))"
   ]
  },
  {
   "cell_type": "code",
   "execution_count": null,
   "id": "dee83a7e",
   "metadata": {},
   "outputs": [
    {
     "name": "stdout",
     "output_type": "stream",
     "text": [
      "Prime numbers between 10 and 20: [11, 13, 17, 19]\n"
     ]
    }
   ],
   "source": [
    "# Write a Program to find the prime numbers in a given range with start and end\n",
    "def is_prime(start, end):\n",
    "    primes = []\n",
    "    for num in range(start, end + 1):\n",
    "        if num > 1:  # prime numbers are greater than 1\n",
    "            for i in range(2, int(num**0.5) + 1):\n",
    "                if (num % i) == 0:\n",
    "                    break\n",
    "            else:\n",
    "                primes.append(num)\n",
    "    return primes\n",
    "start = 10\n",
    "end = 20\n",
    "print(\"Prime numbers between {} and {}: {}\".format(start, end, is_prime(start, end)))\n"
   ]
  },
  {
   "cell_type": "code",
   "execution_count": null,
   "id": "14806560",
   "metadata": {},
   "outputs": [
    {
     "name": "stdout",
     "output_type": "stream",
     "text": [
      "Armstrong numbers between 200 and 6000: [370, 371, 407, 1634]\n"
     ]
    }
   ],
   "source": [
    "# Armstrong Numbers in a Given Range\n",
    "def is_armstrong(start, end):\n",
    "    armstrong_numbers = []\n",
    "    for num in range(start, end + 1):\n",
    "        digit_power_sum = sum(int(digit) ** len(str(num)) for digit in str(num))\n",
    "        if digit_power_sum == num:\n",
    "            armstrong_numbers.append(num)\n",
    "    return armstrong_numbers\n",
    "\n",
    "start = 200\n",
    "end = 2000\n",
    "print(\"Armstrong numbers between {} and {}: {}\".format(start, end, is_armstrong(start, end)))\n"
   ]
  },
  {
   "cell_type": "code",
   "execution_count": null,
   "id": "001f2cc9",
   "metadata": {},
   "outputs": [
    {
     "name": "stdout",
     "output_type": "stream",
     "text": [
      "Sorted array using Bubble Sort:  [-999, -10, 0, 10, 90]\n"
     ]
    }
   ],
   "source": [
    "# Bubble Sort (Jenkins-safe version)\n",
    "def bubble_sort(arr):\n",
    "    n = len(arr)\n",
    "    for i in range(n):\n",
    "        for j in range(0, n-i-1):\n",
    "            if arr[j] > arr[j+1]:\n",
    "                arr[j], arr[j+1] = arr[j+1], arr[j]\n",
    "    return arr\n",
    "\n",
    "# Use hardcoded list instead of input()\n",
    "arr = [64, 34, 25, 12, 22, 11, 90]\n",
    "sorted_arr = bubble_sort(arr)\n",
    "print(\"Sorted array using Bubble Sort:\", sorted_arr)"
   ]
  },
  {
   "cell_type": "code",
   "execution_count": null,
   "id": "7636b3de",
   "metadata": {},
   "outputs": [],
   "source": []
  }
 ],
 "metadata": {
  "kernelspec": {
   "display_name": "Python 3",
   "language": "python",
   "name": "python3"
  },
  "language_info": {
   "codemirror_mode": {
    "name": "ipython",
    "version": 3
   },
   "file_extension": ".py",
   "mimetype": "text/x-python",
   "name": "python",
   "nbconvert_exporter": "python",
   "pygments_lexer": "ipython3",
   "version": "3.10.18"
  }
 },
 "nbformat": 4,
 "nbformat_minor": 5
}
